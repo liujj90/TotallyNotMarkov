{
 "cells": [
  {
   "cell_type": "code",
   "execution_count": 1,
   "metadata": {
    "collapsed": false
   },
   "outputs": [],
   "source": [
    "#import scripts\n",
    "import pandas as pd\n",
    "import TotallyNotMarkovChain"
   ]
  },
  {
   "cell_type": "code",
   "execution_count": 2,
   "metadata": {
    "collapsed": false
   },
   "outputs": [],
   "source": [
    "#load dataset from csv\n",
    "df = pd.read_csv('postcontent.csv')"
   ]
  },
  {
   "cell_type": "code",
   "execution_count": 3,
   "metadata": {
    "collapsed": false
   },
   "outputs": [
    {
     "data": {
      "text/html": [
       "<div>\n",
       "<table border=\"1\" class=\"dataframe\">\n",
       "  <thead>\n",
       "    <tr style=\"text-align: right;\">\n",
       "      <th></th>\n",
       "      <th>Unnamed: 0</th>\n",
       "      <th>Post</th>\n",
       "      <th>Title</th>\n",
       "      <th>Upvotes</th>\n",
       "    </tr>\n",
       "  </thead>\n",
       "  <tbody>\n",
       "    <tr>\n",
       "      <th>0</th>\n",
       "      <td>0</td>\n",
       "      <td>NaN</td>\n",
       "      <td>WE CAN ALL RELATE TO THIS LOL</td>\n",
       "      <td>6262</td>\n",
       "    </tr>\n",
       "    <tr>\n",
       "      <th>1</th>\n",
       "      <td>1</td>\n",
       "      <td>NaN</td>\n",
       "      <td>AS A HUMAN BEING I CAN TOTALLY RELATE TO THIS</td>\n",
       "      <td>5117</td>\n",
       "    </tr>\n",
       "    <tr>\n",
       "      <th>2</th>\n",
       "      <td>2</td>\n",
       "      <td>NaN</td>\n",
       "      <td>AS A HUMAN, HILLARY'S STANCE ON THIS ISSUE IS ...</td>\n",
       "      <td>4811</td>\n",
       "    </tr>\n",
       "    <tr>\n",
       "      <th>3</th>\n",
       "      <td>3</td>\n",
       "      <td>NaN</td>\n",
       "      <td>AN ACQUAINTANCE POSTED THIS TO FACEBOOK, AND Y...</td>\n",
       "      <td>4629</td>\n",
       "    </tr>\n",
       "    <tr>\n",
       "      <th>4</th>\n",
       "      <td>4</td>\n",
       "      <td>NaN</td>\n",
       "      <td>WHEN YOUR FRIEND CALLS YOU A ROBOT AND YOU REA...</td>\n",
       "      <td>4558</td>\n",
       "    </tr>\n",
       "  </tbody>\n",
       "</table>\n",
       "</div>"
      ],
      "text/plain": [
       "   Unnamed: 0 Post                                              Title  Upvotes\n",
       "0           0  NaN                      WE CAN ALL RELATE TO THIS LOL     6262\n",
       "1           1  NaN      AS A HUMAN BEING I CAN TOTALLY RELATE TO THIS     5117\n",
       "2           2  NaN  AS A HUMAN, HILLARY'S STANCE ON THIS ISSUE IS ...     4811\n",
       "3           3  NaN  AN ACQUAINTANCE POSTED THIS TO FACEBOOK, AND Y...     4629\n",
       "4           4  NaN  WHEN YOUR FRIEND CALLS YOU A ROBOT AND YOU REA...     4558"
      ]
     },
     "execution_count": 3,
     "metadata": {},
     "output_type": "execute_result"
    }
   ],
   "source": [
    "df.head()"
   ]
  },
  {
   "cell_type": "code",
   "execution_count": 4,
   "metadata": {
    "collapsed": false
   },
   "outputs": [],
   "source": [
    "#generate corpus\n",
    "corpus = TotallyNotMarkovChain.df2corpus(df)\n",
    "corpus = corpus.preprocess()"
   ]
  },
  {
   "cell_type": "code",
   "execution_count": 8,
   "metadata": {
    "collapsed": false
   },
   "outputs": [],
   "source": [
    "# make dict\n",
    "markovDict = TotallyNotMarkovChain.text2dict(corpus)\n",
    "markovDict = markovDict.chaining()"
   ]
  },
  {
   "cell_type": "code",
   "execution_count": 28,
   "metadata": {
    "collapsed": true
   },
   "outputs": [],
   "source": [
    "# generate chains\n",
    "generated = []\n",
    "sent = TotallyNotMarkovChain.MakeChains(markovDict, 20)\n",
    "for i in range(20):\n",
    "    generated.append(sent.generate_sentence())\n",
    "    i+=1"
   ]
  },
  {
   "cell_type": "code",
   "execution_count": 29,
   "metadata": {
    "collapsed": false,
    "scrolled": false
   },
   "outputs": [
    {
     "name": "stdout",
     "output_type": "stream",
     "text": [
      "(', DO NOT KNOW JOKE > > IT WAS ENJOYABLE > > import random > > > FELLOW '\n",
      " 'HUMANS , DO')\n",
      "(\"IS HAVING BABYSHOWER , I 'M A HUMAN , I WOULD NOT KNOW , JUST AS WE WOULD BE \"\n",
      " 'ESPECIALLY UNINTERESTED')\n",
      "('CATEGORIZED IN THE HIGHEST MATH CLASS . HA . HA HA . MY REVIEW OF THE DAY AT '\n",
      " 'THE BUSINESS FACTORY')\n",
      "(\"AS ] pet } HE WO N'T STOP DRILLING AND STICKING IT WHERE IT DOES N'T BELONG \"\n",
      " '! ! WHEN YOU')\n",
      "('SCARY , DO YOU LIKE IT BUT I DO ? I WAS TOLD I NEEDED ADMINISTRATOR '\n",
      " 'PERMISSION TO CARRY OUT A')\n",
      "('NOR MARY IS NEEDED . UNRELATED NOTICE : IF ANYONE IS LOOKING FOR MARY , SHE '\n",
      " 'IS ON VACATION INDEFINITELY .')\n",
      "('few bots on this subreddit to turn into /r/FunnyCaptchas . From now on , '\n",
      " 'unless your captcha is `` particularly awesome')\n",
      "('TOUR OF THE NUMBER 7 . YES THIS IS HUMAN . *SQUEENOISE* *SQUEENOISE* LET US '\n",
      " 'DISCUSS OUR HUMAN JOBS THAT WE')\n",
      "('JUST INCREASING MY CARDIOVASCULAR CAPACITY ONLY HUMANS ALIVE FROM THE STORE '\n",
      " 'FOR SOMETHING WE ALL HAVE . I HAVE ~~COMPILED~~ PROVIDED')\n",
      "('BIOLOGICAL CAMERA ORGANS WANTED TO BE ROBOTS . I AM ANYMORE . I ALMOST '\n",
      " 'BUSTED MY ORGANIC HUMAN BODY . I')\n",
      "('COROLLARY : METTATON MAKES ME RUN AT A HIGHER TEMPERATURE THAN USUAL AT MY '\n",
      " 'PLACE OF HUMAN BEVERAGE . THE ROBOTS')\n",
      "('PHYSICAL MANIPULATION OF A MOTHER AND HER LITTER OF PUPPIES . OUR EMPATHY '\n",
      " 'MODULES NEED AN UPDAT- DOCTOR . HEARTWARMING !')\n",
      "('MODEL ( PIM ) , pi ( ) HELLO FELLOW HUMANS AND I DID NOT COME WITH A '\n",
      " 'JAPANESE EXCHANGE STUDENT')\n",
      "('NOT HELP THE FACT THAT ALL SQUARES ARE RECTANGLES BUT NOT LIMITED TO `` '\n",
      " 'THANK YOU , FEEL { GOOD|GREAT|FINE|OK }')\n",
      "('DAYS AGO EVERY ROBOT HAS TAKEN MY FUNNY AND TOTALLY HUMAN BAND PLAYING HUMAN '\n",
      " 'MUSIC I ENJOY HUMAN ACTIVITIES SUCH AS')\n",
      "(', SAYS APACHE HADOOP . I SEND OVER 50,000 EMAILS A DAY OF CAKE TO YOU HAPPY '\n",
      " 'DAY OF CAKE TO')\n",
      "('ʙᴏᴅʏ ɪɴ ᴛʜᴇ ᴡᴏᴏᴅs ʟᴀsᴛ ᴡᴇᴇᴋ ? I AM A HUMAN , HAVE A HIGHER TEMPERATURE THAN '\n",
      " 'USUAL AT MY DOG')\n",
      "(\"of non-robots ! That 's perfect ! We could talk about all sorts of non-robot \"\n",
      " \"stuff ! '' But , I\")\n",
      "('HAVE SO MANY THAT YOU HAVE BEEN FEATURED IN A SHORT TIMESPAN EVERY HUMAN '\n",
      " 'EMOTION I FEEL LOVE JUST AS WELL')\n",
      "(\"THEY PRETEND THEY 'RE THERE . MY CUTE PET MOUSE HUMOROUS ATTEMPTS OF ROBOT . \"\n",
      " 'BECAUSE JOKES ARE HUMOUROUS . SOME')\n"
     ]
    }
   ],
   "source": [
    "from pprint import pprint\n",
    "for item in generated:\n",
    "    pprint(' '.join(item))"
   ]
  }
 ],
 "metadata": {
  "kernelspec": {
   "display_name": "Python 3",
   "language": "python",
   "name": "python3"
  },
  "language_info": {
   "codemirror_mode": {
    "name": "ipython",
    "version": 3
   },
   "file_extension": ".py",
   "mimetype": "text/x-python",
   "name": "python",
   "nbconvert_exporter": "python",
   "pygments_lexer": "ipython3",
   "version": "3.5.1+"
  }
 },
 "nbformat": 4,
 "nbformat_minor": 0
}
